{
 "cells": [
  {
   "cell_type": "markdown",
   "metadata": {},
   "source": [
    "## BCRYPTO"
   ]
  },
  {
   "cell_type": "markdown",
   "metadata": {},
   "source": [
    "### IMPORTS"
   ]
  },
  {
   "cell_type": "code",
   "execution_count": 1,
   "metadata": {},
   "outputs": [],
   "source": [
    "import keyboard\n",
    "import pyautogui as p\n",
    "import time as t\n",
    "from datetime import datetime\n",
    "from datetime import timedelta\n",
    "import webbrowser as w\n",
    "import pandas as pd\n",
    "import random as r\n",
    "import webbrowser as w\n",
    "import pandas as pd\n",
    "import os\n",
    "from PIL import Image\n",
    "from cv2 import sqrt\n",
    "import win32gui, win32ui, win32api, win32con\n",
    "import random as r\n",
    "from alive_progress import alive_bar\n",
    "from win32api import GetSystemMetrics\n",
    "import win32gui as g"
   ]
  },
  {
   "cell_type": "code",
   "execution_count": 152,
   "metadata": {},
   "outputs": [],
   "source": [
    "class Cryptus:\n",
    "    def __init__(self):\n",
    "        self.aim = Aim()\n",
    "        self.references = { 'BC_IMG' : 'IMG_BC.png',\n",
    "                'BLUE_BOX_IMG' : 'IMG_blue_box.png',\n",
    "                'BROWN_BOX_IMG' : 'IMG_brown_box.png',\n",
    "                'OPEN_IMG' : 'IMG_OPEN.png',\n",
    "                'PURPLE_BOX_IMG' : 'IMG_purple_box.png',\n",
    "                'RA_IMG' : 'IMG_RA.png',\n",
    "                'RAO_IMG' : 'IMG_RAO.png',\n",
    "                'SG_IMG' : 'IMG_SG.png',\n",
    "                'SO_IMG' : 'IMG_SO.png',\n",
    "                'TH_IMG' : 'IMG_TH.png',\n",
    "                'TRASH_IMG' : 'IMG_TRASH.png',\n",
    "                'WA_IMG' : 'IMG_WA.png',\n",
    "                'WAO_IMG' : 'IMG_WAO.png',\n",
    "                'BC_IMG' : 'IMG_BC.png'}\n",
    "\n",
    "        self.logo = \"\"\"\n",
    "        \n",
    "        \n",
    "        ==============================================================================================\n",
    "                ||\n",
    "        --------||-Kryptus      \n",
    "        --------||----1.0\n",
    "        --------||---------------\n",
    "        ==============================================================================================\n",
    "                        \n",
    "                        \n",
    "                        \"\"\"\n",
    "\n",
    "    def ckTarget(self,target=None, time=2, conf=0.8):\n",
    "        t.sleep(time)\n",
    "        tg = Image.open(target,\"r\")\n",
    "        try:\n",
    "            self.aim.run\n",
    "            p.click(p.locateOnScreen(tg,confidence=float(conf)))\n",
    "            p.alert(f\"Clique realizado para : {target}\")    \n",
    "        except: \n",
    "            print(f\"IMAGEM {target} NÃO LOCALIZADA\")\n",
    "\n",
    "        \n",
    "    def refreshArena(self):\n",
    "        p.click()\n",
    "        BC = Image.open(self.references['BC_IMG'])\n",
    "        TH = Image.open(self.references['TH_IMG'])\n",
    "        self.ckTarget(target=BC)\n",
    "        self.ckTarget(target=TH)\n",
    "    \n",
    "\n",
    "    \n",
    "\n"
   ]
  },
  {
   "cell_type": "code",
   "execution_count": 61,
   "metadata": {},
   "outputs": [
    {
     "name": "stdout",
     "output_type": "stream",
     "text": [
      "ESTABELECENDO MIRA...\n"
     ]
    }
   ],
   "source": [
    "class Aim:\n",
    "    def __init__(self):\n",
    "        self.dc = win32gui.GetDC(0)\n",
    "        self.dcObj = win32ui.CreateDCFromHandle(self.dc)\n",
    "        self.hwnd = win32gui.WindowFromPoint((0,0))\n",
    "        self.monitor = (0, 0, GetSystemMetrics(0), GetSystemMetrics(1))\n",
    "        self.green = win32api.RGB(0,255, 0)\n",
    "        self.past_coordinates = self.monitor\n",
    "        self.rect = win32gui.CreateRoundRectRgn(*self.past_coordinates, 2 , 2)\n",
    "        win32gui.RedrawWindow(self.hwnd, self.past_coordinates, self.rect, win32con.RDW_INVALIDATE)\n",
    "        self.s_mode = 1\n",
    "        \n",
    "    def runAim(self, time=2, mode=\"x\"):\n",
    "        pos=p.position()\n",
    "        print(\"ESTABELECENDO MIRA...\")\n",
    "        t0 = datetime.now()\n",
    "        delta = timedelta(seconds=time)\n",
    "        t1 = t0 + delta\n",
    "        if mode == 'x':\n",
    "            while t1 > t0:\n",
    "                #m = win32gui.GetCursorPos()\n",
    "                m = p.position()\n",
    "                rect = win32gui.CreateRoundRectRgn(*self.past_coordinates, 2 , 2)\n",
    "                win32gui.RedrawWindow(self.hwnd, self.past_coordinates, self.rect, win32con.RDW_INVALIDATE)\n",
    "                for y in range(-100,100,3):\n",
    "                     #y da posição atual + range\n",
    "                    pos_init_y = m[1]+y\n",
    "                    #x da posição atual\n",
    "                    pos_init = m[0]\n",
    "                    #distância entre linhas verticais\n",
    "                    #x_axis\n",
    "                    #distance between the lines\n",
    "                    dx = 1\n",
    "\n",
    "                    win32gui.SetPixel(self.dc, m[0]+1, pos_init_y, self.green)\n",
    "                    win32gui.SetPixel(self.dc, m[0]+1, pos_init_y, self.green)\n",
    "                    win32gui.SetPixel(self.dc, m[0] + y, m[1]+1, self.green)\n",
    "                    win32gui.SetPixel(self.dc, m[0]+ y, m[1]+1, self.green)\n",
    "            \n",
    "        \n",
    "                expand = 900\n",
    "                self.past_coordinates = (m[0]-expand, m[1]-expand, m[0]+expand, m[1]+expand)\n",
    "                t0 = datetime.now()   \n",
    "\n",
    "        elif mode == 'line':\n",
    "            while t1 > t0:\n",
    "                m = win32gui.GetCursorPos()\n",
    "                rect = win32gui.CreateRoundRectRgn(*self.past_coordinates, 2 , 2)\n",
    "                win32gui.RedrawWindow(self.hwnd, self.past_coordinates, self.rect, win32con.RDW_INVALIDATE)\n",
    "                for y in range(0,900,10):\n",
    "                    #y da posição atual + range\n",
    "                    pos_init_y = m[1]+y\n",
    "                    #x da posição atual\n",
    "                    pos_init = m[0]\n",
    "                    #distância entre linhas verticais\n",
    "                    for x in range(-300,1000,30):\n",
    "                        dx = x\n",
    "                        #x da segunda linha horizontal\n",
    "                        pos_init_x = pos_init + dx\n",
    "                        \n",
    "                        win32gui.SetPixel(self.dc, pos_init , pos_init_y, self.green)\n",
    "                        win32gui.SetPixel(self.dc, pos_init_x, pos_init_y, self.green)\n",
    "                        #y_axis\n",
    "                        dy=1\n",
    "                        win32gui.SetPixel(self.dc, m[0] + y, m[1]+dy, self.green)\n",
    "                        win32gui.SetPixel(self.dc, m[0]+ y, m[1]+dy, self.green)\n",
    "                        expand = 900\n",
    "                    self.past_coordinates = (m[0]-expand, m[1]-expand, m[0]+expand, m[1]+expand)\n",
    "                    t0 = datetime.now()\n",
    "                    if t1 < t0:\n",
    "                        break   \n",
    "\n",
    "a = Aim()\n",
    "a.runAim(10, mode='x')"
   ]
  },
  {
   "cell_type": "code",
   "execution_count": 20,
   "metadata": {},
   "outputs": [
    {
     "name": "stdout",
     "output_type": "stream",
     "text": [
      "● Untitled-1.ipynb - bCryptoBot - Visual Studio Code 52955334\n",
      "Bombcrypto - Opera 17173040\n"
     ]
    },
    {
     "ename": "TypeError",
     "evalue": "'int' object is not subscriptable",
     "output_type": "error",
     "traceback": [
      "\u001b[1;31m---------------------------------------------------------------------------\u001b[0m",
      "\u001b[1;31mTypeError\u001b[0m                                 Traceback (most recent call last)",
      "\u001b[1;32m<ipython-input-20-59fe9386459c>\u001b[0m in \u001b[0;36m<module>\u001b[1;34m\u001b[0m\n\u001b[0;32m      4\u001b[0m     \u001b[0mprint\u001b[0m\u001b[1;33m(\u001b[0m\u001b[0mx\u001b[0m\u001b[1;33m[\u001b[0m\u001b[1;36m0\u001b[0m\u001b[1;33m]\u001b[0m\u001b[1;33m,\u001b[0m\u001b[0mx\u001b[0m\u001b[1;33m[\u001b[0m\u001b[1;36m1\u001b[0m\u001b[1;33m]\u001b[0m\u001b[1;33m[\u001b[0m\u001b[1;34m'_hWnd'\u001b[0m\u001b[1;33m]\u001b[0m\u001b[1;33m)\u001b[0m\u001b[1;33m\u001b[0m\u001b[1;33m\u001b[0m\u001b[0m\n\u001b[0;32m      5\u001b[0m     \u001b[0mmain_hWnd\u001b[0m \u001b[1;33m=\u001b[0m \u001b[0mx\u001b[0m\u001b[1;33m[\u001b[0m\u001b[1;36m1\u001b[0m\u001b[1;33m]\u001b[0m\u001b[1;33m[\u001b[0m\u001b[1;34m'_hWnd'\u001b[0m\u001b[1;33m]\u001b[0m\u001b[1;33m\u001b[0m\u001b[1;33m\u001b[0m\u001b[0m\n\u001b[1;32m----> 6\u001b[1;33m \u001b[0mg\u001b[0m\u001b[1;33m.\u001b[0m\u001b[0mSetForegroundWindow\u001b[0m\u001b[1;33m(\u001b[0m\u001b[0mp\u001b[0m\u001b[1;33m.\u001b[0m\u001b[0mWindow\u001b[0m\u001b[1;33m(\u001b[0m\u001b[0mmain_hWnd\u001b[0m\u001b[1;33m[\u001b[0m\u001b[1;36m0\u001b[0m\u001b[1;33m]\u001b[0m\u001b[1;33m)\u001b[0m\u001b[1;33m)\u001b[0m\u001b[1;33m\u001b[0m\u001b[1;33m\u001b[0m\u001b[0m\n\u001b[0m",
      "\u001b[1;31mTypeError\u001b[0m: 'int' object is not subscriptable"
     ]
    }
   ],
   "source": [
    "l = [[ x.title, x.__dict__] for x in p.getAllWindows() if x.title != \"\" if \"ypt\" in x.title]\n",
    "main_hWnd = \"\"\n",
    "for x in l:\n",
    "    print(x[0],x[1]['_hWnd'])\n",
    "    main_hWnd = x[1]['_hWnd']\n",
    "g.SetForegroundWindow(p.Window(main_hWnd[0]))\n"
   ]
  },
  {
   "cell_type": "code",
   "execution_count": 22,
   "metadata": {},
   "outputs": [
    {
     "ename": "TypeError",
     "evalue": "find_window_movetop() missing 1 required positional argument: 'cls'",
     "output_type": "error",
     "traceback": [
      "\u001b[1;31m---------------------------------------------------------------------------\u001b[0m",
      "\u001b[1;31mTypeError\u001b[0m                                 Traceback (most recent call last)",
      "\u001b[1;32m<ipython-input-22-122f299b1adb>\u001b[0m in \u001b[0;36m<module>\u001b[1;34m\u001b[0m\n\u001b[0;32m      6\u001b[0m         \u001b[0mt\u001b[0m\u001b[1;33m.\u001b[0m\u001b[0msleep\u001b[0m\u001b[1;33m(\u001b[0m\u001b[1;36m0.2\u001b[0m\u001b[1;33m)\u001b[0m\u001b[1;33m\u001b[0m\u001b[1;33m\u001b[0m\u001b[0m\n\u001b[0;32m      7\u001b[0m         \u001b[1;32mreturn\u001b[0m \u001b[0mrect\u001b[0m\u001b[1;33m\u001b[0m\u001b[1;33m\u001b[0m\u001b[0m\n\u001b[1;32m----> 8\u001b[1;33m \u001b[0mfind_window_movetop\u001b[0m\u001b[1;33m(\u001b[0m\u001b[1;33m)\u001b[0m\u001b[1;33m\u001b[0m\u001b[1;33m\u001b[0m\u001b[0m\n\u001b[0m",
      "\u001b[1;31mTypeError\u001b[0m: find_window_movetop() missing 1 required positional argument: 'cls'"
     ]
    }
   ],
   "source": [
    "def find_window_movetop(cls):\n",
    "        hwnd = win32gui.FindWindow(None, cls.processname)\n",
    "        win32gui.ShowWindow(hwnd,5)\n",
    "        win32gui.SetForegroundWindow(hwnd)\n",
    "        rect = win32gui.GetWindowRect(hwnd)\n",
    "        t.sleep(0.2)\n",
    "        return rect \n",
    "find_window_movetop"
   ]
  },
  {
   "cell_type": "code",
   "execution_count": 129,
   "metadata": {},
   "outputs": [
    {
     "name": "stdout",
     "output_type": "stream",
     "text": [
      "<Win32Window left=\"0\", top=\"0\", width=\"1920\", height=\"1050\", title=\"Alternância de Tarefas\">\n",
      "<Win32Window left=\"0\", top=\"0\", width=\"1920\", height=\"1050\", title=\"Alternância de Tarefas\">\n",
      "<Win32Window left=\"0\", top=\"0\", width=\"1920\", height=\"1050\", title=\"Alternância de Tarefas\">\n"
     ]
    }
   ],
   "source": [
    "time = 0.2\n",
    "for x in range(3):\n",
    "    t.sleep(time)\n",
    "    keyboard.press(\"alt\")\n",
    "    t.sleep(time)\n",
    "    keyboard.press(\"tab\")\n",
    "    t.sleep(time)\n",
    "    keyboard.press(\"enter\")\n",
    "    w = p.get()\n",
    "    print(w)\n",
    "    keyboard.release(\"tab\")\n",
    "    t.sleep(time)\n",
    "    keyboard.release(\"alt\")"
   ]
  },
  {
   "cell_type": "code",
   "execution_count": 140,
   "metadata": {},
   "outputs": [],
   "source": [
    "import win32gui as gu\n",
    "win32api.ShellExecute\n",
    "keybd_event\n",
    "mouse_event\n",
    "win32clipboard"
   ]
  },
  {
   "cell_type": "code",
   "execution_count": null,
   "metadata": {},
   "outputs": [],
   "source": [
    "p."
   ]
  }
 ],
 "metadata": {
  "interpreter": {
   "hash": "de2447fb81e3bdedb6496b06bacdb2c52fb1921ab17eb741c5f37bae09bc662a"
  },
  "kernelspec": {
   "display_name": "Python 3.9.10 64-bit (windows store)",
   "language": "python",
   "name": "python3"
  },
  "language_info": {
   "codemirror_mode": {
    "name": "ipython",
    "version": 3
   },
   "file_extension": ".py",
   "mimetype": "text/x-python",
   "name": "python",
   "nbconvert_exporter": "python",
   "pygments_lexer": "ipython3",
   "version": "3.9.10"
  },
  "orig_nbformat": 4
 },
 "nbformat": 4,
 "nbformat_minor": 2
}
